
{
 "cells": [
  {
   "cell_type": "code",
   "execution_count": 1,
   "id": "13397910-b209-4c94-8a0f-9a08a540ee7e",
   "metadata": {},
   "outputs": [],
   "source": [
    "# Optimal Control tutorial for three-level population transfer\n",
    "# Copyright (C) 2022 Luigi Giannelli\n",
    "\n",
    "# This program is free software: you can redistribute it and/or modify\n",
    "# it under the terms of the GNU General Public License as published by\n",
    "# the Free Software Foundation, either version 3 of the License, or\n",
    "# (at your option) any later version.\n",
    "\n",
    "# This program is distributed in the hope that it will be useful,\n",
    "# but WITHOUT ANY WARRANTY; without even the implied warranty of\n",
    "# MERCHANTABILITY or FITNESS FOR A PARTICULAR PURPOSE.  See the\n",
    "# GNU General Public License for more details.\n",
    "\n",
    "# You should have received a copy of the GNU General Public License\n",
    "# along with this program.  If not, see <https://www.gnu.org/licenses/>."
   ]
  },
  {
   "cell_type": "code",
   "execution_count": 2,
   "id": "350d7997-7438-4282-b4d4-ba18367d6441",
   "metadata": {},
   "outputs": [],
   "source": [
    "import os\n",
    "import sys\n",
    "\n",
    "module_path = os.path.abspath(os.path.join(\"../src\"))\n",
    "if module_path not in sys.path:\n",
    "    sys.path.append(module_path)\n",
    "\n",
    "import copy\n",
    "from multiprocessing import Pool\n",
    "\n",
    "import matplotlib.pyplot as plt\n",
    "import numpy as np\n",
    "from scipy.optimize import minimize\n",
    "from tqdm.auto import tqdm\n",
    "\n",
    "from ThreeLS import *"
   ]
  },
  {
   "cell_type": "markdown",
   "id": "6d5b2857-739f-4adf-8334-11957d4970df",
   "metadata": {},
   "source": [
    "## hyperparameters"
   ]
  },
  {
   "cell_type": "code",
   "execution_count": 3,
   "id": "e11780bf-47b1-4e07-9ec2-c5a94da8e7a6",
   "metadata": {},
   "outputs": [],
   "source": [
    "T = 1\n",
    "\n",
    "Ωmax = 20\n",
    "γ = 5\n",
    "\n",
    "n_steps = 30\n",
    "\n",
    "np.random.seed(11235813)\n",
    "\n",
    "env_parameters = {\n",
    "    \"Ωmax\": Ωmax,\n",
    "    \"n_steps\": n_steps,\n",
    "    \"γ\": γ,\n",
    "    \"T\": T,\n",
    "}\n",
    "\n",
    "env_py = ThreeLS_v0_env(**env_parameters)\n",
    "\n",
    "init_vals = np.random.rand(2 * n_steps) * Ωmax\n",
    "init_amps = vals2amps(init_vals)\n",
    "bounds = [(0, Ωmax) for a in range(2 * n_steps)]"
   ]
  },
  {
   "cell_type": "markdown",
   "id": "264124d6-eff7-40e7-9537-af1870abe2f8",
   "metadata": {
    "jp-MarkdownHeadingCollapsed": true,
    "tags": []
   },
   "source": [
    "## speed check"
   ]
  },
  {
   "cell_type": "code",
   "execution_count": 4,
   "id": "0722cc81-2cb0-48db-ac11-c9a801660423",
   "metadata": {},
   "outputs": [
    {
     "name": "stdout",
     "output_type": "stream",
     "text": [
      "28.5 ms ± 246 µs per loop (mean ± std. dev. of 7 runs, 10 loops each)\n"
     ]
    },
    {
     "data": {
      "text/latex": [
       "Quantum object: dims = [[4], [4]], shape = (4, 4), type = oper, isherm = True\\begin{equation*}\\left(\\begin{array}{*{11}c}0.366 & 0.062j & -0.225 & 0.0\\\\-0.062j & 0.011 & 0.038j & 0.0\\\\-0.225 & -0.038j & 0.138 & 0.0\\\\0.0 & 0.0 & 0.0 & 0.485\\\\\\end{array}\\right)\\end{equation*}"
      ],
      "text/plain": [
       "Quantum object: dims = [[4], [4]], shape = (4, 4), type = oper, isherm = True\n",
       "Qobj data =\n",
       "[[ 0.36644292+0.j          0.        +0.06222463j -0.22522254+0.j\n",
       "   0.        +0.j        ]\n",
       " [ 0.        -0.06222463j  0.01056619+0.j          0.        +0.0382444j\n",
       "   0.        +0.j        ]\n",
       " [-0.22522254+0.j          0.        -0.0382444j   0.1384259 +0.j\n",
       "   0.        +0.j        ]\n",
       " [ 0.        +0.j          0.        +0.j          0.        +0.j\n",
       "   0.48456499+0.j        ]]"
      ]
     },
     "execution_count": 4,
     "metadata": {},
     "output_type": "execute_result"
    }
   ],
   "source": [
    "%timeit env_py.run_mesolvevolution(init_amps)\n",
    "env_py.run_mesolvevolution(init_amps).states[-1]"
   ]
  },
  {
   "cell_type": "code",
   "execution_count": 5,
   "id": "516b0a9f-9bf2-4d42-9f7b-fa3bc2f5a5cd",
   "metadata": {},
   "outputs": [
    {
     "name": "stdout",
     "output_type": "stream",
     "text": [
      "58 ms ± 470 µs per loop (mean ± std. dev. of 7 runs, 10 loops each)\n"
     ]
    },
    {
     "data": {
      "text/latex": [
       "Quantum object: dims = [[4], [4]], shape = (4, 4), type = oper, isherm = True\\begin{equation*}\\left(\\begin{array}{*{11}c}0.366 & 0.062j & -0.225 & 0.0\\\\-0.062j & 0.011 & 0.038j & 0.0\\\\-0.225 & -0.038j & 0.138 & 0.0\\\\0.0 & 0.0 & 0.0 & 0.485\\\\\\end{array}\\right)\\end{equation*}"
      ],
      "text/plain": [
       "Quantum object: dims = [[4], [4]], shape = (4, 4), type = oper, isherm = True\n",
       "Qobj data =\n",
       "[[ 0.366443  +0.j          0.        +0.06222454j -0.22522263+0.j\n",
       "   0.        +0.j        ]\n",
       " [ 0.        -0.06222454j  0.01056616+0.j          0.        +0.03824435j\n",
       "   0.        +0.j        ]\n",
       " [-0.22522263+0.j          0.        -0.03824435j  0.13842598+0.j\n",
       "   0.        +0.j        ]\n",
       " [ 0.        +0.j          0.        +0.j          0.        +0.j\n",
       "   0.48456486+0.j        ]]"
      ]
     },
     "execution_count": 5,
     "metadata": {},
     "output_type": "execute_result"
    }
   ],
   "source": [
    "%timeit env_py.run_qstepevolution(init_amps)\n",
    "env_py.run_qstepevolution(init_amps)[-1]"
   ]
  },
  {
   "cell_type": "markdown",
   "id": "6496d444-6aca-4da7-90d9-c570ea32ffc7",
   "metadata": {
    "tags": []
   },
   "source": [
    "## initial efficiency with random pulses"
   ]
  },
  {
   "cell_type": "code",
   "execution_count": 4,
   "id": "d63a6c1e-ebf3-41ca-b20e-472593a0e1b0",
   "metadata": {},
   "outputs": [
    {
     "name": "stdout",
     "output_type": "stream",
     "text": [
      "initial efficiency = 0.13842590200230734\n",
      "initial inefficiency = 0.8615740979976927\n",
      "their sum is = 1.0\n",
      "--- now with qstep\n",
      "initial efficiency = 0.13842598413243223\n",
      "initial inefficiency = 0.8615740158675678\n"
     ]
    }
   ],
   "source": [
    "# check initial efficiency\n",
    "print(f\"initial efficiency = {env_py.final_efficiency(init_amps)}\")\n",
    "print(f\"initial inefficiency = {env_py.inefficiency(init_vals)}\")\n",
    "print(\n",
    "    f\"their sum is = {env_py.final_efficiency(init_amps) + env_py.inefficiency(init_vals)}\"\n",
    ")\n",
    "\n",
    "# check initial efficiency with qstep\n",
    "print(\"--- now with qstep\")\n",
    "print(f\"initial efficiency = {env_py.final_qstepefficiency(init_amps)}\")\n",
    "print(f\"initial inefficiency = {env_py.qstepinefficiency(init_vals)}\")"
   ]
  },
  {
   "cell_type": "code",
   "execution_count": 5,
   "id": "f40db63c-b401-402b-b33c-7ef8d689be36",
   "metadata": {},
   "outputs": [
    {
     "name": "stdout",
     "output_type": "stream",
     "text": [
      "final efficiency = 0.13842599093914032\n",
      "final efficiency (mesolve) = 0.13842590200230734\n"
     ]
    },
    {